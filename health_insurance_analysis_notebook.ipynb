{
 "cells": [
  {
   "cell_type": "code",
   "execution_count": 129,
   "id": "e3c028f6-54e7-4754-b760-95b12cd06fba",
   "metadata": {},
   "outputs": [],
   "source": [
    "#importimg libraries ----step: 0\n",
    "\n",
    "import pandas as pd\n",
    "import numpy as np\n",
    "import seaborn as sns\n",
    "import matplotlib.pyplot as plt\n",
    "import statsmodels.api as sm\n",
    "from sklearn.linear_model import LogisticRegression\n",
    "from sklearn.impute import SimpleImputer\n",
    "from sklearn.neighbors import NearestNeighbors \n",
    "sns.set(style = \"whitegrid\")\n",
    "%matplotlib inline"
   ]
  },
  {
   "cell_type": "code",
   "execution_count": 130,
   "id": "184ca3f3-1583-4550-aa29-6de3396b05d1",
   "metadata": {},
   "outputs": [
    {
     "name": "stdout",
     "output_type": "stream",
     "text": [
      "Data set shape : (8802, 12)\n"
     ]
    },
    {
     "data": {
      "text/html": [
       "<div>\n",
       "<style scoped>\n",
       "    .dataframe tbody tr th:only-of-type {\n",
       "        vertical-align: middle;\n",
       "    }\n",
       "\n",
       "    .dataframe tbody tr th {\n",
       "        vertical-align: top;\n",
       "    }\n",
       "\n",
       "    .dataframe thead th {\n",
       "        text-align: right;\n",
       "    }\n",
       "</style>\n",
       "<table border=\"1\" class=\"dataframe\">\n",
       "  <thead>\n",
       "    <tr style=\"text-align: right;\">\n",
       "      <th></th>\n",
       "      <th>rownames</th>\n",
       "      <th>health</th>\n",
       "      <th>age</th>\n",
       "      <th>limit</th>\n",
       "      <th>gender</th>\n",
       "      <th>insurance</th>\n",
       "      <th>married</th>\n",
       "      <th>selfemp</th>\n",
       "      <th>family</th>\n",
       "      <th>region</th>\n",
       "      <th>ethnicity</th>\n",
       "      <th>education</th>\n",
       "    </tr>\n",
       "  </thead>\n",
       "  <tbody>\n",
       "    <tr>\n",
       "      <th>0</th>\n",
       "      <td>1</td>\n",
       "      <td>yes</td>\n",
       "      <td>31</td>\n",
       "      <td>no</td>\n",
       "      <td>male</td>\n",
       "      <td>yes</td>\n",
       "      <td>yes</td>\n",
       "      <td>yes</td>\n",
       "      <td>4</td>\n",
       "      <td>south</td>\n",
       "      <td>cauc</td>\n",
       "      <td>bachelor</td>\n",
       "    </tr>\n",
       "    <tr>\n",
       "      <th>1</th>\n",
       "      <td>2</td>\n",
       "      <td>yes</td>\n",
       "      <td>31</td>\n",
       "      <td>no</td>\n",
       "      <td>female</td>\n",
       "      <td>yes</td>\n",
       "      <td>yes</td>\n",
       "      <td>no</td>\n",
       "      <td>4</td>\n",
       "      <td>south</td>\n",
       "      <td>cauc</td>\n",
       "      <td>highschool</td>\n",
       "    </tr>\n",
       "    <tr>\n",
       "      <th>2</th>\n",
       "      <td>3</td>\n",
       "      <td>yes</td>\n",
       "      <td>54</td>\n",
       "      <td>no</td>\n",
       "      <td>male</td>\n",
       "      <td>yes</td>\n",
       "      <td>yes</td>\n",
       "      <td>no</td>\n",
       "      <td>5</td>\n",
       "      <td>west</td>\n",
       "      <td>cauc</td>\n",
       "      <td>ged</td>\n",
       "    </tr>\n",
       "    <tr>\n",
       "      <th>3</th>\n",
       "      <td>4</td>\n",
       "      <td>yes</td>\n",
       "      <td>27</td>\n",
       "      <td>no</td>\n",
       "      <td>male</td>\n",
       "      <td>yes</td>\n",
       "      <td>no</td>\n",
       "      <td>no</td>\n",
       "      <td>5</td>\n",
       "      <td>west</td>\n",
       "      <td>cauc</td>\n",
       "      <td>highschool</td>\n",
       "    </tr>\n",
       "    <tr>\n",
       "      <th>4</th>\n",
       "      <td>5</td>\n",
       "      <td>yes</td>\n",
       "      <td>39</td>\n",
       "      <td>no</td>\n",
       "      <td>male</td>\n",
       "      <td>yes</td>\n",
       "      <td>yes</td>\n",
       "      <td>no</td>\n",
       "      <td>5</td>\n",
       "      <td>west</td>\n",
       "      <td>cauc</td>\n",
       "      <td>none</td>\n",
       "    </tr>\n",
       "  </tbody>\n",
       "</table>\n",
       "</div>"
      ],
      "text/plain": [
       "   rownames health  age limit  gender insurance married selfemp  family  \\\n",
       "0         1    yes   31    no    male       yes     yes     yes       4   \n",
       "1         2    yes   31    no  female       yes     yes      no       4   \n",
       "2         3    yes   54    no    male       yes     yes      no       5   \n",
       "3         4    yes   27    no    male       yes      no      no       5   \n",
       "4         5    yes   39    no    male       yes     yes      no       5   \n",
       "\n",
       "  region ethnicity   education  \n",
       "0  south      cauc    bachelor  \n",
       "1  south      cauc  highschool  \n",
       "2   west      cauc         ged  \n",
       "3   west      cauc  highschool  \n",
       "4   west      cauc        none  "
      ]
     },
     "metadata": {},
     "output_type": "display_data"
    }
   ],
   "source": [
    "#Loading Data set step :1\n",
    "#.......................................\n",
    "#.......................................\n",
    "df = pd.read_csv(\"HealthInsurance.csv\")\n",
    "print(\"Data set shape :\",df.shape)\n",
    "display(df.head())\n",
    "df.columns = df.columns.str.strip()"
   ]
  },
  {
   "cell_type": "code",
   "execution_count": 131,
   "id": "103bd21d-1190-45d5-81a6-fef3a8eea758",
   "metadata": {},
   "outputs": [
    {
     "data": {
      "text/plain": [
       "dtype('O')"
      ]
     },
     "execution_count": 131,
     "metadata": {},
     "output_type": "execute_result"
    }
   ],
   "source": [
    "df[\"married\"].dtype"
   ]
  },
  {
   "cell_type": "code",
   "execution_count": 132,
   "id": "79b9189d-8df6-4c82-90c4-761b692cd164",
   "metadata": {},
   "outputs": [
    {
     "name": "stdout",
     "output_type": "stream",
     "text": [
      "\n",
      "Column names : ['rownames', 'health', 'age', 'limit', 'gender', 'insurance', 'married', 'selfemp', 'family', 'region', 'ethnicity', 'education']\n",
      "\n",
      "Data types :\n",
      " rownames      int64\n",
      "health       object\n",
      "age           int64\n",
      "limit        object\n",
      "gender       object\n",
      "insurance    object\n",
      "married      object\n",
      "selfemp      object\n",
      "family        int64\n",
      "region       object\n",
      "ethnicity    object\n",
      "education    object\n",
      "dtype: object\n",
      "\n",
      "Missing values per column :\n",
      " rownames     0\n",
      "health       0\n",
      "age          0\n",
      "limit        0\n",
      "gender       0\n",
      "insurance    0\n",
      "married      0\n",
      "selfemp      0\n",
      "family       0\n",
      "region       0\n",
      "ethnicity    0\n",
      "education    0\n",
      "dtype: int64\n"
     ]
    }
   ],
   "source": [
    "#Data Inspection!!!!!!!!!!!!! step :2\n",
    "print(\"\\nColumn names :\",df.columns.tolist())\n",
    "print(\"\\nData types :\\n\",df.dtypes)\n",
    "print(\"\\nMissing values per column :\\n\",df.isnull().sum())"
   ]
  },
  {
   "cell_type": "code",
   "execution_count": 133,
   "id": "7fc64a22-b743-4415-920f-df7486ed57f3",
   "metadata": {},
   "outputs": [],
   "source": [
    "#Data cleaning ......step:3\n",
    "\n",
    "#Convert selected columns to categorical type\n",
    "\n",
    "categorical_cols = [\"insurance\",\"ethnicity\",\"gender\",\"married\",\"region\"]\n",
    "for col in categorical_cols:\n",
    "    if col in df.columns:\n",
    "        df[col]=df[col].astype(\"category\")"
   ]
  },
  {
   "cell_type": "code",
   "execution_count": 134,
   "id": "df284952-ce82-4775-98c2-15d0ccc781d2",
   "metadata": {},
   "outputs": [
    {
     "data": {
      "image/png": "[encoded data removed]",
      "text/plain": [
       "<Figure size 600x400 with 1 Axes>"
      ]
     },
     "metadata": {},
     "output_type": "display_data"
    }
   ],
   "source": [
    "#Exploratory Data Analysis (EDA)\n",
    "\n",
    "#1 Distribution of insurance Coverage \n",
    "#..............._____________________________\n",
    "if \"insurance\" in df.columns:\n",
    "    plt.figure(figsize=(6,4))\n",
    "    sns.countplot(x=\"insurance\",data=df,color=\"orange\")\n",
    "    plt.title(\"Insurance Coverage Distribution\")\n",
    "    plt.show()\n",
    "%matplotlib inline"
   ]
  },
  {
   "cell_type": "code",
   "execution_count": 135,
   "id": "563e8a3e-491f-48a3-9a73-b7930227c692",
   "metadata": {},
   "outputs": [],
   "source": [
    "#boxplot : income vs insurance"
   ]
  },
  {
   "cell_type": "code",
   "execution_count": 136,
   "id": "4d46c5b2-a347-4d13-8c43-9b943913572e",
   "metadata": {},
   "outputs": [
    {
     "data": {
      "image/png": "[encoded data removed]",
      "text/plain": [
       "<Figure size 600x400 with 1 Axes>"
      ]
     },
     "metadata": {},
     "output_type": "display_data"
    },
    {
     "name": "stdout",
     "output_type": "stream",
     "text": [
      "insurance        no       yes\n",
      "gender                       \n",
      "female     0.171504  0.828496\n",
      "male       0.223397  0.776603\n"
     ]
    }
   ],
   "source": [
    "if \"insurance\" and \"gender\" in df.columns:\n",
    "    plt.figure(figsize=(6,4))\n",
    "    sns.boxplot(x=\"insurance\",y=\"gender\",data=df,color=\"green\")\n",
    "    plt.title(\"Insurance vs Gender \")\n",
    "    plt.show()\n",
    "    #imsurance vs gender crosstab\n",
    "    print(pd.crosstab(df[\"gender\"],df[\"insurance\"], normalize=\"index\"))\n",
    "    \n",
    "\n"
   ]
  },
  {
   "cell_type": "code",
   "execution_count": 137,
   "id": "a599e38a-6c83-4295-8a55-c2f370b34125",
   "metadata": {},
   "outputs": [],
   "source": [
    "#converting objects into numberic data for the regression model \n",
    "\n",
    "#......\n",
    "#.......\n",
    "#.......\n",
    "\n",
    "df[\"insurance_encoded\"]=df[\"insurance\"].map({\"yes\":1,\"no\":0}).astype(\"int\")\n",
    "df[\"married\"] = df[\"married\"].map({\"yes\":1,\"no\":0}).astype(\"int\")"
   ]
  },
  {
   "cell_type": "code",
   "execution_count": 138,
   "id": "d978ff5b-1b4a-4791-bdfd-52e7b231b69b",
   "metadata": {},
   "outputs": [
    {
     "data": {
      "text/plain": [
       "rownames                int64\n",
       "health                 object\n",
       "age                     int64\n",
       "limit                  object\n",
       "gender               category\n",
       "insurance            category\n",
       "married                 int64\n",
       "selfemp                object\n",
       "family                  int64\n",
       "region               category\n",
       "ethnicity            category\n",
       "education              object\n",
       "insurance_encoded       int64\n",
       "dtype: object"
      ]
     },
     "execution_count": 138,
     "metadata": {},
     "output_type": "execute_result"
    }
   ],
   "source": [
    "df.dtypes"
   ]
  },
  {
   "cell_type": "code",
   "execution_count": 139,
   "id": "e3fe922c-3ade-4b76-8a1f-541f112578b8",
   "metadata": {},
   "outputs": [
    {
     "name": "stdout",
     "output_type": "stream",
     "text": [
      "                           Logit Regression Results                           \n",
      "==============================================================================\n",
      "Dep. Variable:      insurance_encoded   No. Observations:                 8802\n",
      "Model:                          Logit   Df Residuals:                     8798\n",
      "Method:                           MLE   Df Model:                            3\n",
      "Date:                Thu, 02 Oct 2025   Pseudo R-squ.:                 0.05383\n",
      "Time:                        12:58:03   Log-Likelihood:                -4153.8\n",
      "converged:                       True   LL-Null:                       -4390.1\n",
      "Covariance Type:            nonrobust   LLR p-value:                4.010e-102\n",
      "==============================================================================\n",
      "                 coef    std err          z      P>|z|      [0.025      0.975]\n",
      "------------------------------------------------------------------------------\n",
      "const          0.7249      0.117      6.183      0.000       0.495       0.955\n",
      "age            0.0188      0.003      6.945      0.000       0.013       0.024\n",
      "married        0.9444      0.062     15.341      0.000       0.824       1.065\n",
      "family        -0.1780      0.017    -10.184      0.000      -0.212      -0.144\n",
      "==============================================================================\n"
     ]
    }
   ],
   "source": [
    "# logistics Regression_prediction... Insurance \n",
    "\n",
    "#Define outcome and predictors \n",
    "\n",
    "X = df[[\"age\",\"married\",\"family\"]]\n",
    "y=df[\"insurance_encoded\"]\n",
    "X=pd.get_dummies(X,drop_first=True)\n",
    "X=sm.add_constant(X)\n",
    "logit_model= sm.Logit(y,X).fit(disp=False)\n",
    "print(logit_model.summary())"
   ]
  },
  {
   "cell_type": "code",
   "execution_count": null,
   "id": "3281d398-ad0e-46c6-a7b5-c22fdcd36737",
   "metadata": {},
   "outputs": [],
   "source": []
  },
  {
   "cell_type": "code",
   "execution_count": null,
   "id": "3def7418-6ffa-4162-a132-abed784af9ef",
   "metadata": {},
   "outputs": [],
   "source": []
  }
 ],
 "metadata": {
  "kernelspec": {
   "display_name": "Python 3 (ipykernel)",
   "language": "python",
   "name": "python3"
  },
  "language_info": {
   "codemirror_mode": {
    "name": "ipython",
    "version": 3
   },
   "file_extension": ".py",
   "mimetype": "text/x-python",
   "name": "python",
   "nbconvert_exporter": "python",
   "pygments_lexer": "ipython3",
   "version": "3.13.2"
  }
 },
 "nbformat": 4,
 "nbformat_minor": 5
}
